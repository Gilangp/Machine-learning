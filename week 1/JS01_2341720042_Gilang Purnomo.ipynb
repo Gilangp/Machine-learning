{
 "cells": [
  {
   "cell_type": "markdown",
   "metadata": {
    "id": "iqOkuN2bafB4"
   },
   "source": [
    "# **Bagian 1**"
   ]
  },
  {
   "cell_type": "markdown",
   "metadata": {
    "id": "WxuWHdqU24wE"
   },
   "source": [
    "### 1. Buat file notebook dengan nama TG1_NIM_NAMA.ipynb. Contoh: TG_0028119106_M AFIF HENDRAWAN.ipynb."
   ]
  },
  {
   "cell_type": "markdown",
   "metadata": {
    "id": "BAuLhwnk2-vE"
   },
   "source": [
    "### 2. Lakukan instalasi library berikut pada notebook,\n",
    "###    a. PyPREP\n",
    "###    b. Scipy\n",
    "###    c. wandb\n",
    "###    d. pyECG2"
   ]
  },
  {
   "cell_type": "markdown",
   "metadata": {
    "id": "VkBdV78qas--"
   },
   "source": [
    "**a. PyPREP**"
   ]
  },
  {
   "cell_type": "code",
   "execution_count": null,
   "metadata": {
    "colab": {
     "base_uri": "https://localhost:8080/"
    },
    "executionInfo": {
     "elapsed": 4995,
     "status": "ok",
     "timestamp": 1756212484419,
     "user": {
      "displayName": "Gilang Purnomo",
      "userId": "13752448485180022329"
     },
     "user_tz": -420
    },
    "id": "z66-KjFpbERK",
    "outputId": "9aa5fdda-6946-4297-945a-299b3d4233b3"
   },
   "outputs": [
    {
     "name": "stdout",
     "output_type": "stream",
     "text": [
      "Requirement already satisfied: PyPREP in /usr/local/lib/python3.12/dist-packages (0.5.0)\n",
      "Requirement already satisfied: mne>=1.3.0 in /usr/local/lib/python3.12/dist-packages (from PyPREP) (1.10.1)\n",
      "Requirement already satisfied: numpy>=1.20.2 in /usr/local/lib/python3.12/dist-packages (from PyPREP) (2.0.2)\n",
      "Requirement already satisfied: psutil>=5.4.3 in /usr/local/lib/python3.12/dist-packages (from PyPREP) (5.9.5)\n",
      "Requirement already satisfied: scipy>=1.6.3 in /usr/local/lib/python3.12/dist-packages (from PyPREP) (1.16.1)\n",
      "Requirement already satisfied: decorator in /usr/local/lib/python3.12/dist-packages (from mne>=1.3.0->PyPREP) (4.4.2)\n",
      "Requirement already satisfied: jinja2 in /usr/local/lib/python3.12/dist-packages (from mne>=1.3.0->PyPREP) (3.1.6)\n",
      "Requirement already satisfied: lazy-loader>=0.3 in /usr/local/lib/python3.12/dist-packages (from mne>=1.3.0->PyPREP) (0.4)\n",
      "Requirement already satisfied: matplotlib>=3.7 in /usr/local/lib/python3.12/dist-packages (from mne>=1.3.0->PyPREP) (3.10.0)\n",
      "Requirement already satisfied: packaging in /usr/local/lib/python3.12/dist-packages (from mne>=1.3.0->PyPREP) (25.0)\n",
      "Requirement already satisfied: pooch>=1.5 in /usr/local/lib/python3.12/dist-packages (from mne>=1.3.0->PyPREP) (1.8.2)\n",
      "Requirement already satisfied: tqdm in /usr/local/lib/python3.12/dist-packages (from mne>=1.3.0->PyPREP) (4.67.1)\n",
      "Requirement already satisfied: contourpy>=1.0.1 in /usr/local/lib/python3.12/dist-packages (from matplotlib>=3.7->mne>=1.3.0->PyPREP) (1.3.3)\n",
      "Requirement already satisfied: cycler>=0.10 in /usr/local/lib/python3.12/dist-packages (from matplotlib>=3.7->mne>=1.3.0->PyPREP) (0.12.1)\n",
      "Requirement already satisfied: fonttools>=4.22.0 in /usr/local/lib/python3.12/dist-packages (from matplotlib>=3.7->mne>=1.3.0->PyPREP) (4.59.1)\n",
      "Requirement already satisfied: kiwisolver>=1.3.1 in /usr/local/lib/python3.12/dist-packages (from matplotlib>=3.7->mne>=1.3.0->PyPREP) (1.4.9)\n",
      "Requirement already satisfied: pillow>=8 in /usr/local/lib/python3.12/dist-packages (from matplotlib>=3.7->mne>=1.3.0->PyPREP) (11.3.0)\n",
      "Requirement already satisfied: pyparsing>=2.3.1 in /usr/local/lib/python3.12/dist-packages (from matplotlib>=3.7->mne>=1.3.0->PyPREP) (3.2.3)\n",
      "Requirement already satisfied: python-dateutil>=2.7 in /usr/local/lib/python3.12/dist-packages (from matplotlib>=3.7->mne>=1.3.0->PyPREP) (2.9.0.post0)\n",
      "Requirement already satisfied: platformdirs>=2.5.0 in /usr/local/lib/python3.12/dist-packages (from pooch>=1.5->mne>=1.3.0->PyPREP) (4.3.8)\n",
      "Requirement already satisfied: requests>=2.19.0 in /usr/local/lib/python3.12/dist-packages (from pooch>=1.5->mne>=1.3.0->PyPREP) (2.32.4)\n",
      "Requirement already satisfied: MarkupSafe>=2.0 in /usr/local/lib/python3.12/dist-packages (from jinja2->mne>=1.3.0->PyPREP) (3.0.2)\n",
      "Requirement already satisfied: six>=1.5 in /usr/local/lib/python3.12/dist-packages (from python-dateutil>=2.7->matplotlib>=3.7->mne>=1.3.0->PyPREP) (1.17.0)\n",
      "Requirement already satisfied: charset_normalizer<4,>=2 in /usr/local/lib/python3.12/dist-packages (from requests>=2.19.0->pooch>=1.5->mne>=1.3.0->PyPREP) (3.4.3)\n",
      "Requirement already satisfied: idna<4,>=2.5 in /usr/local/lib/python3.12/dist-packages (from requests>=2.19.0->pooch>=1.5->mne>=1.3.0->PyPREP) (3.10)\n",
      "Requirement already satisfied: urllib3<3,>=1.21.1 in /usr/local/lib/python3.12/dist-packages (from requests>=2.19.0->pooch>=1.5->mne>=1.3.0->PyPREP) (2.5.0)\n",
      "Requirement already satisfied: certifi>=2017.4.17 in /usr/local/lib/python3.12/dist-packages (from requests>=2.19.0->pooch>=1.5->mne>=1.3.0->PyPREP) (2025.8.3)\n"
     ]
    }
   ],
   "source": [
    "!pip install PyPREP"
   ]
  },
  {
   "cell_type": "markdown",
   "metadata": {
    "id": "hNupl5gka1YS"
   },
   "source": [
    "**b. Scipy**"
   ]
  },
  {
   "cell_type": "code",
   "execution_count": null,
   "metadata": {
    "colab": {
     "base_uri": "https://localhost:8080/"
    },
    "executionInfo": {
     "elapsed": 5574,
     "status": "ok",
     "timestamp": 1756212493429,
     "user": {
      "displayName": "Gilang Purnomo",
      "userId": "13752448485180022329"
     },
     "user_tz": -420
    },
    "id": "mC7Ja0miWDA5",
    "outputId": "e28ae28f-612a-4e2e-de39-23dfa4d258e6"
   },
   "outputs": [
    {
     "name": "stdout",
     "output_type": "stream",
     "text": [
      "Requirement already satisfied: scipy in /usr/local/lib/python3.12/dist-packages (1.16.1)\n",
      "Requirement already satisfied: numpy<2.6,>=1.25.2 in /usr/local/lib/python3.12/dist-packages (from scipy) (2.0.2)\n"
     ]
    }
   ],
   "source": [
    "!pip install scipy"
   ]
  },
  {
   "cell_type": "markdown",
   "metadata": {
    "id": "p9586lfEa6Nw"
   },
   "source": [
    "**c. wandb**"
   ]
  },
  {
   "cell_type": "code",
   "execution_count": null,
   "metadata": {
    "colab": {
     "base_uri": "https://localhost:8080/"
    },
    "executionInfo": {
     "elapsed": 5019,
     "status": "ok",
     "timestamp": 1756212500541,
     "user": {
      "displayName": "Gilang Purnomo",
      "userId": "13752448485180022329"
     },
     "user_tz": -420
    },
    "id": "5oVkd9gbWGW5",
    "outputId": "9cd26006-be15-4474-ffd0-28605da9b4ed"
   },
   "outputs": [
    {
     "name": "stdout",
     "output_type": "stream",
     "text": [
      "Requirement already satisfied: wandb in /usr/local/lib/python3.12/dist-packages (0.21.1)\n",
      "Requirement already satisfied: click!=8.0.0,>=7.1 in /usr/local/lib/python3.12/dist-packages (from wandb) (8.2.1)\n",
      "Requirement already satisfied: gitpython!=3.1.29,>=1.0.0 in /usr/local/lib/python3.12/dist-packages (from wandb) (3.1.45)\n",
      "Requirement already satisfied: packaging in /usr/local/lib/python3.12/dist-packages (from wandb) (25.0)\n",
      "Requirement already satisfied: platformdirs in /usr/local/lib/python3.12/dist-packages (from wandb) (4.3.8)\n",
      "Requirement already satisfied: protobuf!=4.21.0,!=5.28.0,<7,>=3.19.0 in /usr/local/lib/python3.12/dist-packages (from wandb) (5.29.5)\n",
      "Requirement already satisfied: pydantic<3 in /usr/local/lib/python3.12/dist-packages (from wandb) (2.11.7)\n",
      "Requirement already satisfied: pyyaml in /usr/local/lib/python3.12/dist-packages (from wandb) (6.0.2)\n",
      "Requirement already satisfied: requests<3,>=2.0.0 in /usr/local/lib/python3.12/dist-packages (from wandb) (2.32.4)\n",
      "Requirement already satisfied: sentry-sdk>=2.0.0 in /usr/local/lib/python3.12/dist-packages (from wandb) (2.35.0)\n",
      "Requirement already satisfied: typing-extensions<5,>=4.8 in /usr/local/lib/python3.12/dist-packages (from wandb) (4.14.1)\n",
      "Requirement already satisfied: gitdb<5,>=4.0.1 in /usr/local/lib/python3.12/dist-packages (from gitpython!=3.1.29,>=1.0.0->wandb) (4.0.12)\n",
      "Requirement already satisfied: annotated-types>=0.6.0 in /usr/local/lib/python3.12/dist-packages (from pydantic<3->wandb) (0.7.0)\n",
      "Requirement already satisfied: pydantic-core==2.33.2 in /usr/local/lib/python3.12/dist-packages (from pydantic<3->wandb) (2.33.2)\n",
      "Requirement already satisfied: typing-inspection>=0.4.0 in /usr/local/lib/python3.12/dist-packages (from pydantic<3->wandb) (0.4.1)\n",
      "Requirement already satisfied: charset_normalizer<4,>=2 in /usr/local/lib/python3.12/dist-packages (from requests<3,>=2.0.0->wandb) (3.4.3)\n",
      "Requirement already satisfied: idna<4,>=2.5 in /usr/local/lib/python3.12/dist-packages (from requests<3,>=2.0.0->wandb) (3.10)\n",
      "Requirement already satisfied: urllib3<3,>=1.21.1 in /usr/local/lib/python3.12/dist-packages (from requests<3,>=2.0.0->wandb) (2.5.0)\n",
      "Requirement already satisfied: certifi>=2017.4.17 in /usr/local/lib/python3.12/dist-packages (from requests<3,>=2.0.0->wandb) (2025.8.3)\n",
      "Requirement already satisfied: smmap<6,>=3.0.1 in /usr/local/lib/python3.12/dist-packages (from gitdb<5,>=4.0.1->gitpython!=3.1.29,>=1.0.0->wandb) (5.0.2)\n"
     ]
    }
   ],
   "source": [
    "!pip install wandb"
   ]
  },
  {
   "cell_type": "markdown",
   "metadata": {
    "id": "JT5tFs3wa-wH"
   },
   "source": [
    "**d. pyECG**"
   ]
  },
  {
   "cell_type": "code",
   "execution_count": null,
   "metadata": {
    "colab": {
     "base_uri": "https://localhost:8080/"
    },
    "executionInfo": {
     "elapsed": 3800,
     "status": "ok",
     "timestamp": 1756212507635,
     "user": {
      "displayName": "Gilang Purnomo",
      "userId": "13752448485180022329"
     },
     "user_tz": -420
    },
    "id": "S5xmIj5UWJpO",
    "outputId": "1f3d0bcc-921a-47a0-8554-c04d4e8a0284"
   },
   "outputs": [
    {
     "name": "stdout",
     "output_type": "stream",
     "text": [
      "Collecting pyECG\n",
      "  Using cached pyECG-0.0.9.1-py2.py3-none-any.whl.metadata (3.1 kB)\n",
      "Using cached pyECG-0.0.9.1-py2.py3-none-any.whl (14 kB)\n",
      "Installing collected packages: pyECG\n",
      "Successfully installed pyECG-0.0.9.1\n"
     ]
    }
   ],
   "source": [
    "!pip install pyECG --no-deps"
   ]
  },
  {
   "cell_type": "code",
   "execution_count": null,
   "metadata": {
    "colab": {
     "base_uri": "https://localhost:8080/"
    },
    "executionInfo": {
     "elapsed": 8158,
     "status": "ok",
     "timestamp": 1756212476590,
     "user": {
      "displayName": "Gilang Purnomo",
      "userId": "13752448485180022329"
     },
     "user_tz": -420
    },
    "id": "v9kliNUPYzUF",
    "outputId": "15641670-4ce9-47d1-8e34-c0e73c8ade53"
   },
   "outputs": [
    {
     "name": "stdout",
     "output_type": "stream",
     "text": [
      "Collecting scikit-learn\n",
      "  Using cached scikit_learn-1.7.1-cp312-cp312-manylinux2014_x86_64.manylinux_2_17_x86_64.whl.metadata (11 kB)\n",
      "Collecting wfdb\n",
      "  Using cached wfdb-4.3.0-py3-none-any.whl.metadata (3.8 kB)\n",
      "Requirement already satisfied: numpy>=1.22.0 in /usr/local/lib/python3.12/dist-packages (from scikit-learn) (2.0.2)\n",
      "Requirement already satisfied: scipy>=1.8.0 in /usr/local/lib/python3.12/dist-packages (from scikit-learn) (1.16.1)\n",
      "Requirement already satisfied: joblib>=1.2.0 in /usr/local/lib/python3.12/dist-packages (from scikit-learn) (1.5.1)\n",
      "Requirement already satisfied: threadpoolctl>=3.1.0 in /usr/local/lib/python3.12/dist-packages (from scikit-learn) (3.6.0)\n",
      "Requirement already satisfied: aiohttp>=3.10.11 in /usr/local/lib/python3.12/dist-packages (from wfdb) (3.12.15)\n",
      "Requirement already satisfied: fsspec>=2023.10.0 in /usr/local/lib/python3.12/dist-packages (from wfdb) (2025.3.0)\n",
      "Requirement already satisfied: matplotlib>=3.2.2 in /usr/local/lib/python3.12/dist-packages (from wfdb) (3.10.0)\n",
      "Requirement already satisfied: pandas>=2.2.3 in /usr/local/lib/python3.12/dist-packages (from wfdb) (2.3.2)\n",
      "Requirement already satisfied: requests>=2.8.1 in /usr/local/lib/python3.12/dist-packages (from wfdb) (2.32.4)\n",
      "Requirement already satisfied: soundfile>=0.10.0 in /usr/local/lib/python3.12/dist-packages (from wfdb) (0.13.1)\n",
      "Requirement already satisfied: aiohappyeyeballs>=2.5.0 in /usr/local/lib/python3.12/dist-packages (from aiohttp>=3.10.11->wfdb) (2.6.1)\n",
      "Requirement already satisfied: aiosignal>=1.4.0 in /usr/local/lib/python3.12/dist-packages (from aiohttp>=3.10.11->wfdb) (1.4.0)\n",
      "Requirement already satisfied: attrs>=17.3.0 in /usr/local/lib/python3.12/dist-packages (from aiohttp>=3.10.11->wfdb) (25.3.0)\n",
      "Requirement already satisfied: frozenlist>=1.1.1 in /usr/local/lib/python3.12/dist-packages (from aiohttp>=3.10.11->wfdb) (1.7.0)\n",
      "Requirement already satisfied: multidict<7.0,>=4.5 in /usr/local/lib/python3.12/dist-packages (from aiohttp>=3.10.11->wfdb) (6.6.4)\n",
      "Requirement already satisfied: propcache>=0.2.0 in /usr/local/lib/python3.12/dist-packages (from aiohttp>=3.10.11->wfdb) (0.3.2)\n",
      "Requirement already satisfied: yarl<2.0,>=1.17.0 in /usr/local/lib/python3.12/dist-packages (from aiohttp>=3.10.11->wfdb) (1.20.1)\n",
      "Requirement already satisfied: contourpy>=1.0.1 in /usr/local/lib/python3.12/dist-packages (from matplotlib>=3.2.2->wfdb) (1.3.3)\n",
      "Requirement already satisfied: cycler>=0.10 in /usr/local/lib/python3.12/dist-packages (from matplotlib>=3.2.2->wfdb) (0.12.1)\n",
      "Requirement already satisfied: fonttools>=4.22.0 in /usr/local/lib/python3.12/dist-packages (from matplotlib>=3.2.2->wfdb) (4.59.1)\n",
      "Requirement already satisfied: kiwisolver>=1.3.1 in /usr/local/lib/python3.12/dist-packages (from matplotlib>=3.2.2->wfdb) (1.4.9)\n",
      "Requirement already satisfied: packaging>=20.0 in /usr/local/lib/python3.12/dist-packages (from matplotlib>=3.2.2->wfdb) (25.0)\n",
      "Requirement already satisfied: pillow>=8 in /usr/local/lib/python3.12/dist-packages (from matplotlib>=3.2.2->wfdb) (11.3.0)\n",
      "Requirement already satisfied: pyparsing>=2.3.1 in /usr/local/lib/python3.12/dist-packages (from matplotlib>=3.2.2->wfdb) (3.2.3)\n",
      "Requirement already satisfied: python-dateutil>=2.7 in /usr/local/lib/python3.12/dist-packages (from matplotlib>=3.2.2->wfdb) (2.9.0.post0)\n",
      "Requirement already satisfied: pytz>=2020.1 in /usr/local/lib/python3.12/dist-packages (from pandas>=2.2.3->wfdb) (2025.2)\n",
      "Requirement already satisfied: tzdata>=2022.7 in /usr/local/lib/python3.12/dist-packages (from pandas>=2.2.3->wfdb) (2025.2)\n",
      "Requirement already satisfied: charset_normalizer<4,>=2 in /usr/local/lib/python3.12/dist-packages (from requests>=2.8.1->wfdb) (3.4.3)\n",
      "Requirement already satisfied: idna<4,>=2.5 in /usr/local/lib/python3.12/dist-packages (from requests>=2.8.1->wfdb) (3.10)\n",
      "Requirement already satisfied: urllib3<3,>=1.21.1 in /usr/local/lib/python3.12/dist-packages (from requests>=2.8.1->wfdb) (2.5.0)\n",
      "Requirement already satisfied: certifi>=2017.4.17 in /usr/local/lib/python3.12/dist-packages (from requests>=2.8.1->wfdb) (2025.8.3)\n",
      "Requirement already satisfied: cffi>=1.0 in /usr/local/lib/python3.12/dist-packages (from soundfile>=0.10.0->wfdb) (1.17.1)\n",
      "Requirement already satisfied: typing-extensions>=4.2 in /usr/local/lib/python3.12/dist-packages (from aiosignal>=1.4.0->aiohttp>=3.10.11->wfdb) (4.14.1)\n",
      "Requirement already satisfied: pycparser in /usr/local/lib/python3.12/dist-packages (from cffi>=1.0->soundfile>=0.10.0->wfdb) (2.22)\n",
      "Requirement already satisfied: six>=1.5 in /usr/local/lib/python3.12/dist-packages (from python-dateutil>=2.7->matplotlib>=3.2.2->wfdb) (1.17.0)\n",
      "Using cached scikit_learn-1.7.1-cp312-cp312-manylinux2014_x86_64.manylinux_2_17_x86_64.whl (9.5 MB)\n",
      "Using cached wfdb-4.3.0-py3-none-any.whl (163 kB)\n",
      "Installing collected packages: scikit-learn, wfdb\n",
      "Successfully installed scikit-learn-1.7.1 wfdb-4.3.0\n"
     ]
    }
   ],
   "source": [
    "!pip install scikit-learn wfdb"
   ]
  },
  {
   "cell_type": "markdown",
   "metadata": {
    "id": "e5eTYyXm3WFC"
   },
   "source": [
    "### 3. Jelaskan kegunakan masing-masing library tersebut."
   ]
  },
  {
   "cell_type": "markdown",
   "metadata": {
    "id": "maU79fI33cUB"
   },
   "source": [
    "a. PyPREP digunakan untuk melakukan pemrosesan pada sinyal EEG dengan cara membersihkan gangguan (noise/artifact) sehingga kualitas data lebih baik untuk dianalisis dalam penelitian maupun aplikasi BCI.\n",
    "\n",
    "b. Scipy ini sebagai library komputasi ilmiah yang menyediakan berbagai metode matematis, optimisasi, pemrosesan sinyal, serta analisis statistik yang mendukung penelitian di bidang sains dan teknik.\n",
    "\n",
    "c. wandb digunakan untuk melacak eksperimen machine learning, memonitor metrik pelatihan model secara real-time, serta menyimpan dan membandingkan hasil eksperimen dengan mudah.\n",
    "\n",
    "d. pyECG ini untuk pemrosesan dan analisis sinyal ECG, termasuk mendeteksi detak jantung, menghitung variabilitas denyut jantung (HRV), serta memvisualisasikan data untuk riset kesehatan dan medis."
   ]
  },
  {
   "cell_type": "markdown",
   "metadata": {
    "id": "Tes4H9Y13oRd"
   },
   "source": [
    "# **Bagian 2**"
   ]
  },
  {
   "cell_type": "markdown",
   "metadata": {
    "id": "1MoaJddm3spc"
   },
   "source": [
    "### 1. Berikan contoh tentang tidakan melanggar etika dan hukum tentang penggunaan kecerdasan buatan. Sertakan referensi yang digunakan."
   ]
  },
  {
   "cell_type": "markdown",
   "metadata": {
    "id": "WgtZJM133_2s"
   },
   "source": [
    "Jawab : kasus deepfake penipuan di jawa Timur, yaitu video palsu Gubernur Khofifah Indar Parawansa yang dimanipulasi menggunakan teknologi AI (deepfake). Pada video tersebut, Gubernur seolah-olah menawarkan sepeda motor murah. Faktanya, video itu palsu dan digunakan pelaku untuk menipu masyarakat hingga meraup keuntungan Rp87 juta.\n",
    "\n",
    "Dasar Hukumnya :\n",
    "1. Pasal 28F UUD 1945 → Setiap orang berhak berkomunikasi dan memperoleh informasi. Penyebaran deepfake palsu melanggar hak masyarakat atas informasi yang benar.\n",
    "2. Undang-Undang Nomor 11 Tahun 2008 tentang Informasi dan Transaksi Elektronik (UU ITE) jo. UU No. 19 Tahun 2016\n",
    "3. Pasal 378 KUHP → Tindak pidana penipuan (dengan tipu muslihat untuk menguntungkan diri sendiri).\n",
    "\n",
    "link referensi : https://kominfo.jatimprov.go.id/berita/polda-jatim-ungkap-kasus-penipuan-deepfake-ai-kepala-daerah-pelaku-kantongi-keuntungan-hingga-rp87-juta\n"
   ]
  },
  {
   "cell_type": "markdown",
   "metadata": {
    "id": "G41A8Tyb334Z"
   },
   "source": [
    "### 2. Berikan contoh tentang dampak energi dan lingkungan terhadap pemanfaatan kecerdasan buatan dan bagaimana cara mengatasinya (Anda dapat memberikan pendapat pribadi). Sertakan referensi yang digunakan."
   ]
  },
  {
   "cell_type": "markdown",
   "metadata": {
    "id": "UCCwQ2Lw4J2V"
   },
   "source": [
    "**Dampak Energi dan Lingkungan AI:**\n",
    "1. Konsumsi energi tinggi, Proses pelatihan model AI, khususnya deep learning berskala besar yang memerlukan daya komputasi tinggi. Hal ini meningkatkan konsumsi listrik pusat data secara global dan berdampak pada tingginya emisi karbon.\n",
    "2. Konsumsi air pusat data, Infrastruktur AI membutuhkan pendinginan server. Pusat data mengonsumsi air dalam jumlah besar untuk menjaga suhu perangkat keras, yang dapat memengaruhi ketersediaan air di wilayah tersebut.\n",
    "3. Limbah elektronik (e-waste), Perangkat keras AI (GPU, TPU, server) sering diperbarui untuk performa lebih baik. Hal ini menyebabkan akumulasi limbah elektronik yang dapat mencemari lingkungan jika tidak dikelola dengan baik.\n",
    "4. Ketergantungan pada energi fosil, Banyak pusat data masih menggunakan listrik dari bahan bakar fosil, sehingga meningkatkan jejak karbon dan pencemaran lingkungan.\n",
    "\n",
    "**Cara mengatasi:**\n",
    "1. Mengintegrasikan sumber energi terbarukan seperti tenaga surya, angin, dan panas bumi untuk menyalakan pusat data agar jejak karbon lebih rendah.\n",
    "2. Menggunakan perangkat keras khusus hemat energi seperti GPU dan TPU yang dirancang untuk komputasi AI secara efisien, hingga bisa mengurangi konsumsi energi.\n",
    "3. Menerapkan praktik pengelolaan IT yang proaktif untuk efisiensi pusat data, misalnya\n",
    "    * Pendinginan cair (liquid cooling) untuk mengurangi kebutuhan energi pendinginan.\n",
    "    * Menggunakan kembali panas limbah (heat reuse) untuk keperluan lain, misalnya pemanas ruangan.\n",
    "    * Pemantauan perangkat keras secara berkala untuk memperpanjang umur pakai dan mengurangi limbah elektronik.\n",
    "\n",
    "**referensi**\n",
    "* https://www.gramedia.com/best-seller/dampak-positif-negatif-ai/\n",
    "* https://theconversation.com/green-ai-teknologi-kecerdasan-buatan-untuk-melawan-perubahan-iklim-241145\n",
    "* https://berijalan.co.id/article-detail/perkembangan-ai-2025-tren-dampak-dan-masa-depan-teknologi-ai\n",
    "* https://www.ibm.com/id-id/think/insights/future-ai-energy-efficiency"
   ]
  }
 ],
 "metadata": {
  "colab": {
   "authorship_tag": "ABX9TyN+shOm0uO9WdJ1BcJi8kse",
   "provenance": []
  },
  "kernelspec": {
   "display_name": "base",
   "language": "python",
   "name": "python3"
  },
  "language_info": {
   "name": "python",
   "version": "3.13.5"
  }
 },
 "nbformat": 4,
 "nbformat_minor": 0
}
