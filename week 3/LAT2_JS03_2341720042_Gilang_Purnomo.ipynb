{
  "nbformat": 4,
  "nbformat_minor": 0,
  "metadata": {
    "colab": {
      "provenance": [],
      "authorship_tag": "ABX9TyMGk4zb0/HCgyJ8A2531Dbe",
      "include_colab_link": true
    },
    "kernelspec": {
      "name": "python3",
      "display_name": "Python 3"
    },
    "language_info": {
      "name": "python"
    }
  },
  "cells": [
    {
      "cell_type": "markdown",
      "metadata": {
        "id": "view-in-github",
        "colab_type": "text"
      },
      "source": [
        "<a href=\"https://colab.research.google.com/github/Gilangp/Machine-learning/blob/main/week%203/LAT2_JS03_2341720042_Gilang_Purnomo.ipynb\" target=\"_parent\"><img src=\"https://colab.research.google.com/assets/colab-badge.svg\" alt=\"Open In Colab\"/></a>"
      ]
    },
    {
      "cell_type": "markdown",
      "source": [
        "# **Pratikum 2**"
      ],
      "metadata": {
        "id": "CXsdCi0XFqOd"
      }
    },
    {
      "cell_type": "markdown",
      "source": [
        "### **Langkah 0 - Siapkan Corpus**"
      ],
      "metadata": {
        "id": "1vJ9T0SOFuRt"
      }
    },
    {
      "cell_type": "code",
      "source": [
        "corpus = [\n",
        "    'the house had a tiny little mouse',\n",
        "    'the cat saw the mouse',\n",
        "    'the mouse ran away from the house',\n",
        "    'the cat finally ate the mouse',\n",
        "    'the end of the mouse story'\n",
        "]"
      ],
      "metadata": {
        "id": "MMk6_w-TFyem"
      },
      "execution_count": 1,
      "outputs": []
    },
    {
      "cell_type": "markdown",
      "source": [
        "### **Langkah 1 - Buat Model TF-IDF**"
      ],
      "metadata": {
        "id": "Hnoz-hKEF23Y"
      }
    },
    {
      "cell_type": "code",
      "source": [
        "from sklearn.feature_extraction.text import TfidfVectorizer\n",
        "\n",
        "# Inisiasi obyek TFidfVectorizer\n",
        "vect = TfidfVectorizer(stop_words='english')\n",
        "\n",
        "# Pembobotan TF-IDF\n",
        "resp = vect.fit_transform(corpus)\n",
        "\n",
        "# Cetak hasil\n",
        "print(resp)"
      ],
      "metadata": {
        "colab": {
          "base_uri": "https://localhost:8080/"
        },
        "id": "m2EQpDoiF5Tx",
        "outputId": "87919f16-7f97-4c26-f745-18d58af4d793"
      },
      "execution_count": 2,
      "outputs": [
        {
          "output_type": "stream",
          "name": "stdout",
          "text": [
            "<Compressed Sparse Row sparse matrix of dtype 'float64'\n",
            "\twith 18 stored elements and shape (5, 12)>\n",
            "  Coords\tValues\n",
            "  (0, 5)\t0.47557510189256375\n",
            "  (0, 11)\t0.5894630806320427\n",
            "  (0, 6)\t0.5894630806320427\n",
            "  (0, 7)\t0.2808823162882302\n",
            "  (1, 7)\t0.3477147117091919\n",
            "  (1, 2)\t0.5887321837696324\n",
            "  (1, 9)\t0.7297183669435993\n",
            "  (2, 5)\t0.47557510189256375\n",
            "  (2, 7)\t0.2808823162882302\n",
            "  (2, 8)\t0.5894630806320427\n",
            "  (2, 1)\t0.5894630806320427\n",
            "  (3, 7)\t0.2808823162882302\n",
            "  (3, 2)\t0.47557510189256375\n",
            "  (3, 4)\t0.5894630806320427\n",
            "  (3, 0)\t0.5894630806320427\n",
            "  (4, 7)\t0.3193023297639811\n",
            "  (4, 3)\t0.6700917930430479\n",
            "  (4, 10)\t0.6700917930430479\n"
          ]
        }
      ]
    },
    {
      "cell_type": "markdown",
      "source": [
        "### **Langkah 2 - Cek Kata yang Digunakan**"
      ],
      "metadata": {
        "id": "jL0BQJpmGbnH"
      }
    },
    {
      "cell_type": "code",
      "source": [
        "print(vect.get_feature_names_out())"
      ],
      "metadata": {
        "colab": {
          "base_uri": "https://localhost:8080/"
        },
        "id": "2Y9fhc6FGeUS",
        "outputId": "000bb01b-6b13-4520-a5ab-30f69774b42a"
      },
      "execution_count": 3,
      "outputs": [
        {
          "output_type": "stream",
          "name": "stdout",
          "text": [
            "['ate' 'away' 'cat' 'end' 'finally' 'house' 'little' 'mouse' 'ran' 'saw'\n",
            " 'story' 'tiny']\n"
          ]
        }
      ]
    }
  ]
}